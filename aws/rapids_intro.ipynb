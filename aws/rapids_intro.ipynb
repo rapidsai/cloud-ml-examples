{
 "cells": [
  {
   "cell_type": "markdown",
   "id": "58c6f50e",
   "metadata": {},
   "source": [
    "# RAPIDS on AWS\n",
    "\n",
    "### Augment SageMaker with a RAPIDS Conda Kernel\n",
    "This section describes the process required to augment a SageMaker notebook instance with a RAPIDS conda environment.\n",
    "\n",
    "The RAPIDS Ops team builds and publishes the latest RAPIDS release as a packed conda tarball.\n",
    "\n",
    "e.g.: https://rapidsai-data.s3.us-east-2.amazonaws.com/conda-pack/rapidsai/rapids21.06_cuda11.0_py3.8.tar.gz\n",
    "\n",
    "We will use this packed conda environment to augment the set of Jupyter ipython kernels available in our SageMaker notebook instance.\n",
    "\n",
    "The key steps of this are as follows:\n",
    "\n",
    "1. During SageMaker Notebook Instance Startup\n",
    "    - Select a RAPIDS compatible GPU (NVIDIA Pascal or greater with compute capability 6.0+) as the SageMaker Notebook instance type (e.g., ml.p3.2xlarge)\n",
    "    - Attach the lifecycle configuration (via the 'Additional Options' dropdown) provided in this directory (link to directory also in the Appendix of this notebook)\n",
    "    - Set the volume size to at least 15 GB, to accommodate the Conda tarball.",
    "2. Launch the instance\n",
    "3. Once Jupyter is accessible select the 'rapids-XX' kernel when working with a new notebook.\n",
    "\n",
    "### cuDF and cuML Examples\n",
    "\n",
    "Below are basic examples to get started with RAPIDS on AWS, where all processing takes place on the GPU."
   ]
  },
  {
   "cell_type": "markdown",
   "id": "6a5c596c",
   "metadata": {},
   "source": [
    "### cuDF Example\n",
    "\n",
    "Load a dataset into GPU memory (cuDF DataFrame) and perform a basic calculation.\n",
    "\n",
    "Everything from CSV parsing to calculating tip percentage and computing a grouped average is done on the GPU.\n",
    "\n",
    "For information about cuDF, refer to the [cuDF documentation](https://docs.rapids.ai/api/cudf/stable)."
   ]
  },
  {
   "cell_type": "code",
   "execution_count": null,
   "id": "e9b9cba9",
   "metadata": {},
   "outputs": [],
   "source": [
    "import cudf\n",
    "\n",
    "url = \"https://github.com/plotly/datasets/raw/master/tips.csv\"\n",
    "\n",
    "tips_df = cudf.read_csv(url)\n",
    "tips_df['tip_percentage'] = tips_df['tip']/tips_df['total_bill']*100\n",
    "\n",
    "# Display average tip by dining party size\n",
    "print(tips_df.groupby('size').tip_percentage.mean())"
   ]
  },
  {
   "cell_type": "markdown",
   "id": "35fdb7c6",
   "metadata": {},
   "source": [
    "### cuML Example\n",
    "\n",
    "### Linear Regression\n",
    "\n",
    "Linear Regression is a simple machine learning model where the response y is modelled by a linear combination of the predictors in X.\n",
    "\n",
    "The model can take array-like objects, either in host as NumPy arrays or in device (as Numba or cuda_array_interface-compliant), as well as cuDF DataFrames as the input.\n",
    "\n",
    "NOTE: This notebook is not expected to run on a GPU with under 16GB of RAM with its current value for `n_smaples`. Please change `n_samples` from `2**20` to `2**19`.\n",
    "\n",
    "For information about cuML's linear regression API: https://docs.rapids.ai/api/cuml/stable/api.html#cuml.LinearRegression"
   ]
  },
  {
   "cell_type": "code",
   "execution_count": null,
   "id": "c6e564b5",
   "metadata": {},
   "outputs": [],
   "source": [
    "from cuml import make_regression, train_test_split\n",
    "from cuml.linear_model import LinearRegression as cuLinearRegression\n",
    "from cuml.metrics.regression import r2_score\n",
    "from sklearn.linear_model import LinearRegression as skLinearRegression\n",
    "\n",
    "# Define parameters\n",
    "n_samples = 2**19 #If you are running on a GPU with less than 16GB RAM, please change to 2**19 or you could run out of memory\n",
    "n_features = 399\n",
    "\n",
    "random_state = 23"
   ]
  },
  {
   "cell_type": "code",
   "execution_count": null,
   "id": "7f1a649c",
   "metadata": {},
   "outputs": [],
   "source": [
    "%%time\n",
    "# Generate data\n",
    "X, y = make_regression(n_samples=n_samples, n_features=n_features, random_state=random_state)\n",
    "\n",
    "X = cudf.DataFrame(X)\n",
    "y = cudf.DataFrame(y)[0]\n",
    "\n",
    "X_cudf, X_cudf_test, y_cudf, y_cudf_test = train_test_split(X, y, test_size = 0.2, random_state=random_state)"
   ]
  },
  {
   "cell_type": "code",
   "execution_count": null,
   "id": "b792261e",
   "metadata": {},
   "outputs": [],
   "source": [
    "# Copy dataset from GPU memory to host memory (CPU)\n",
    "# This is done to later compare CPU and GPU results\n",
    "X_train = X_cudf.to_pandas()\n",
    "X_test = X_cudf_test.to_pandas()\n",
    "y_train = y_cudf.to_pandas()\n",
    "y_test = y_cudf_test.to_pandas()"
   ]
  },
  {
   "cell_type": "markdown",
   "id": "a7598551",
   "metadata": {},
   "source": [
    "### Scikit-learn Model"
   ]
  },
  {
   "cell_type": "code",
   "execution_count": null,
   "id": "196d7135",
   "metadata": {},
   "outputs": [],
   "source": [
    "%%time\n",
    "ols_sk = skLinearRegression(fit_intercept=True,\n",
    "                            normalize=True,\n",
    "                            n_jobs=-1)\n",
    "\n",
    "ols_sk.fit(X_train, y_train)"
   ]
  },
  {
   "cell_type": "code",
   "execution_count": null,
   "id": "bf319f1f",
   "metadata": {},
   "outputs": [],
   "source": [
    "%%time\n",
    "predict_sk = ols_sk.predict(X_test)"
   ]
  },
  {
   "cell_type": "code",
   "execution_count": null,
   "id": "eb18356d",
   "metadata": {},
   "outputs": [],
   "source": [
    "%%time\n",
    "r2_score_sk = r2_score(y_cudf_test, predict_sk)"
   ]
  },
  {
   "cell_type": "markdown",
   "id": "0cf80045",
   "metadata": {},
   "source": [
    "### cuML Model"
   ]
  },
  {
   "cell_type": "code",
   "execution_count": null,
   "id": "12b4f5c1",
   "metadata": {},
   "outputs": [],
   "source": [
    "%%time\n",
    "ols_cuml = cuLinearRegression(fit_intercept=True,\n",
    "                              normalize=True,\n",
    "                              algorithm='eig')\n",
    "\n",
    "ols_cuml.fit(X_cudf, y_cudf)"
   ]
  },
  {
   "cell_type": "code",
   "execution_count": null,
   "id": "d1b6ba1d",
   "metadata": {},
   "outputs": [],
   "source": [
    "%%time\n",
    "predict_cuml = ols_cuml.predict(X_cudf_test)"
   ]
  },
  {
   "cell_type": "code",
   "execution_count": null,
   "id": "17d77677",
   "metadata": {},
   "outputs": [],
   "source": [
    "%%time\n",
    "r2_score_cuml = r2_score(y_cudf_test, predict_cuml)"
   ]
  },
  {
   "cell_type": "markdown",
   "id": "c39732bb",
   "metadata": {},
   "source": [
    "### Compare Results"
   ]
  },
  {
   "cell_type": "code",
   "execution_count": null,
   "id": "5f1e77ab",
   "metadata": {},
   "outputs": [],
   "source": [
    "print(\"R^2 score (SKL):  %s\" % r2_score_sk)\n",
    "print(\"R^2 score (cuML): %s\" % r2_score_cuml)"
   ]
  },
  {
   "cell_type": "markdown",
   "id": "312da107",
   "metadata": {},
   "source": [
    "### Appendix\n",
    "#### Lifecycle configuration\n",
    "Check for most recent version here: https://github.com/rapidsai/cloud-ml-examples/tree/main/aws/environment_setup"
   ]
  },
  {
   "cell_type": "markdown",
   "id": "de135078",
   "metadata": {},
   "source": [
    "#### RAPIDS References\n",
    "\n",
    "> [cloud-ml-examples](http://github.com/rapidsai/cloud-ml-examples)\n",
    "\n",
    "> [RAPIDS HPO](https://rapids.ai/hpo)\n",
    "\n",
    "> [cuML Documentation](https://docs.rapids.ai/api/cuml/stable/)"
   ]
  },
  {
   "cell_type": "markdown",
   "id": "41b21281",
   "metadata": {},
   "source": [
    "#### SageMaker References\n",
    "\n",
    "> [SageMaker Training Toolkit](https://github.com/aws/sagemaker-training-toolkit)\n",
    "\n",
    "> [Estimator Parameters](https://sagemaker.readthedocs.io/en/stable/api/training/estimators.html)\n",
    "\n",
    "> Spot Instances [docs](https://docs.aws.amazon.com/sagemaker/latest/dg/model-managed-spot-training.html), and [blog]()"
   ]
  }
 ],
 "metadata": {
  "kernelspec": {
   "display_name": "rapids_15_py37",
   "language": "python",
   "name": "rapids_15_py37"
  },
  "language_info": {
   "codemirror_mode": {
    "name": "ipython",
    "version": 3
   },
   "file_extension": ".py",
   "mimetype": "text/x-python",
   "name": "python",
   "nbconvert_exporter": "python",
   "pygments_lexer": "ipython3",
   "version": "3.7.9"
  }
 },
 "nbformat": 4,
 "nbformat_minor": 5
}
