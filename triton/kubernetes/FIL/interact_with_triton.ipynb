{
 "cells": [
  {
   "cell_type": "code",
   "execution_count": 21,
   "metadata": {
    "tags": []
   },
   "outputs": [],
   "source": [
    "import os\n",
    "import numpy\n",
    "import subprocess\n",
    "import sys\n",
    "import time\n",
    "\n",
    "import tritonclient.http as triton_http\n",
    "import tritonclient.grpc as triton_grpc"
   ]
  },
  {
   "cell_type": "code",
   "execution_count": 31,
   "metadata": {},
   "outputs": [
    {
     "name": "stdout",
     "output_type": "stream",
     "text": [
      "35.232.0.166 80\n",
      "35.232.0.166 31400\n"
     ]
    }
   ],
   "source": [
    "http_port_cmd = \"kubectl -n istio-system get service istio-ingressgateway -o jsonpath='{.spec.ports[?(@.name==\\\"http2\\\")].port}'\"\n",
    "grpc_port_cmd = \"kubectl -n istio-system get service istio-ingressgateway -o jsonpath='{.spec.ports[?(@.name==\\\"tcp\\\")].port}'\"\n",
    "host_cmd = \"kubectl -n istio-system get service istio-ingressgateway -o jsonpath='{.status.loadBalancer.ingress[0].ip}'\"\n",
    "\n",
    "http_port = subprocess.check_output(http_port_cmd.split()).decode('utf-8').replace(\"'\", \"\")\n",
    "grpc_port = subprocess.check_output(grpc_port_cmd.split()).decode('utf-8').replace(\"'\", \"\")\n",
    "host = subprocess.check_output(host_cmd.split()).decode('utf-8').replace(\"'\", \"\")\n",
    "\n",
    "print(host, http_port)\n",
    "print(host, grpc_port)"
   ]
  },
  {
   "cell_type": "code",
   "execution_count": 32,
   "metadata": {
    "collapsed": false,
    "jupyter": {
     "outputs_hidden": false
    },
    "pycharm": {
     "name": "#%%\n"
    }
   },
   "outputs": [],
   "source": [
    "# Set up both HTTP and GRPC clients. Note that the GRPC client is generally\n",
    "# somewhat faster.\n",
    "\n",
    "# Generate dummy data to classify\n",
    "features = 500\n",
    "samples = 10_000\n",
    "data = numpy.random.rand(samples, features).astype('float32')"
   ]
  },
  {
   "cell_type": "markdown",
   "metadata": {},
   "source": [
    "### HTTP Client Example"
   ]
  },
  {
   "cell_type": "code",
   "execution_count": 33,
   "metadata": {},
   "outputs": [
    {
     "name": "stdout",
     "output_type": "stream",
     "text": [
      "Is Server Ready: True\n",
      "Is FIL model ready: True\n"
     ]
    }
   ],
   "source": [
    "http_client = triton_http.InferenceServerClient(\n",
    "    url=f'{host}:{http_port}',\n",
    "    verbose=False,\n",
    "    concurrency=12\n",
    ")\n",
    "\n",
    "while (not (http_client.is_server_ready() or http_client.is_model_ready('fil'))):\n",
    "    print(\"Waiting on server ready\")\n",
    "    time.sleep(5)\n",
    "print(f\"Is Server Ready: {http_client.is_server_ready()}\")\n",
    "print(f\"Is FIL model ready: {http_client.is_model_ready('fil')}\")"
   ]
  },
  {
   "cell_type": "code",
   "execution_count": 34,
   "metadata": {},
   "outputs": [],
   "source": [
    "# Set up Triton input and output objects for both HTTP and GRPC\n",
    "triton_input_http = triton_http.InferInput(\n",
    "    'input__0',\n",
    "    (samples, features),\n",
    "    'FP32'\n",
    ")\n",
    "\n",
    "triton_input_http.set_data_from_numpy(data, binary_data=True)\n",
    "triton_output_http = triton_http.InferRequestedOutput(\n",
    "    'output__0',\n",
    "    binary_data=True\n",
    ")\n",
    "\n",
    "# Submit inference requests (both HTTP and GRPC)\n",
    "request_http = http_client.infer(\n",
    "    'fil',\n",
    "    model_version='1',\n",
    "    inputs=[triton_input_http],\n",
    "    outputs=[triton_output_http]\n",
    ")"
   ]
  },
  {
   "cell_type": "code",
   "execution_count": 35,
   "metadata": {},
   "outputs": [
    {
     "data": {
      "text/plain": [
       "array([[0.8235208 , 0.17647919],\n",
       "       [0.19637322, 0.8036268 ],\n",
       "       [0.8787818 , 0.1212182 ],\n",
       "       ...,\n",
       "       [0.6002078 , 0.3997922 ],\n",
       "       [0.48060197, 0.51939803],\n",
       "       [0.8246635 , 0.1753365 ]], dtype=float32)"
      ]
     },
     "execution_count": 35,
     "metadata": {},
     "output_type": "execute_result"
    }
   ],
   "source": [
    "result_http = request_http.as_numpy('output__0')\n",
    "result_http"
   ]
  },
  {
   "cell_type": "markdown",
   "metadata": {},
   "source": [
    "### gRPC Client Example."
   ]
  },
  {
   "cell_type": "code",
   "execution_count": 36,
   "metadata": {},
   "outputs": [
    {
     "name": "stdout",
     "output_type": "stream",
     "text": [
      "Is Server Ready: True\n",
      "Is FIL model ready: True\n"
     ]
    }
   ],
   "source": [
    "grpc_client = triton_grpc.InferenceServerClient(\n",
    "    url=f'{host}:{grpc_port}',\n",
    "    verbose = False\n",
    ")\n",
    "\n",
    "while (not (grpc_client.is_server_ready() or grpc_client.is_model_ready('fil'))):\n",
    "    print(\"Waiting on server ready\")\n",
    "    time.sleep(5)\n",
    "    \n",
    "print(f\"Is Server Ready: {grpc_client.is_server_ready()}\")\n",
    "print(f\"Is FIL model ready: {grpc_client.is_model_ready('fil')}\")"
   ]
  },
  {
   "cell_type": "code",
   "execution_count": 37,
   "metadata": {},
   "outputs": [],
   "source": [
    "triton_input_grpc = triton_grpc.InferInput(\n",
    "    'input__0',\n",
    "    [samples, features],\n",
    "    'FP32'\n",
    ")\n",
    "\n",
    "triton_input_grpc.set_data_from_numpy(data)\n",
    "triton_output_grpc = triton_grpc.InferRequestedOutput('output__0')\n",
    "\n",
    "request_grpc = grpc_client.infer(\n",
    "    'fil',\n",
    "    model_version='1',\n",
    "    inputs=[triton_input_grpc],\n",
    "    outputs=[triton_output_grpc]\n",
    ")"
   ]
  },
  {
   "cell_type": "code",
   "execution_count": 38,
   "metadata": {},
   "outputs": [
    {
     "data": {
      "text/plain": [
       "array([[0.8235208 , 0.17647919],\n",
       "       [0.19637322, 0.8036268 ],\n",
       "       [0.8787818 , 0.1212182 ],\n",
       "       ...,\n",
       "       [0.6002078 , 0.3997922 ],\n",
       "       [0.48060197, 0.51939803],\n",
       "       [0.8246635 , 0.1753365 ]], dtype=float32)"
      ]
     },
     "execution_count": 38,
     "metadata": {},
     "output_type": "execute_result"
    }
   ],
   "source": [
    "result_grpc = request_grpc.as_numpy('output__0')\n",
    "result_grpc"
   ]
  },
  {
   "cell_type": "markdown",
   "metadata": {},
   "source": [
    "### Compare Results"
   ]
  },
  {
   "cell_type": "code",
   "execution_count": 39,
   "metadata": {},
   "outputs": [],
   "source": [
    "# Check that we got the same result with both GRPC and HTTP\n",
    "numpy.testing.assert_almost_equal(result_http, result_grpc)"
   ]
  }
 ],
 "metadata": {
  "kernelspec": {
   "display_name": "RAPIDS-21.06",
   "language": "python",
   "name": "rapids-21.06"
  },
  "language_info": {
   "codemirror_mode": {
    "name": "ipython",
    "version": 3
   },
   "file_extension": ".py",
   "mimetype": "text/x-python",
   "name": "python",
   "nbconvert_exporter": "python",
   "pygments_lexer": "ipython3",
   "version": "3.8.8"
  }
 },
 "nbformat": 4,
 "nbformat_minor": 4
}
