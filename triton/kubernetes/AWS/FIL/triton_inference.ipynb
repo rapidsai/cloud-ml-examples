{
 "cells": [
  {
   "cell_type": "markdown",
   "id": "72d15be1-c14e-4490-bea3-3491d0f1d59b",
   "metadata": {},
   "source": [
    "# Inferencing with `triton` server with `FIL` backend running on EKS\n",
    "\n",
    "Here we will use a `gRPC` client and a `http` client to perform inference with triton server with a custom FIL backend. "
   ]
  },
  {
   "cell_type": "code",
   "execution_count": null,
   "id": "8181b434-73fb-4f3c-970e-5b3b210e4355",
   "metadata": {
    "tags": []
   },
   "outputs": [],
   "source": [
    "import os\n",
    "import numpy\n",
    "import subprocess\n",
    "import sys\n",
    "import time\n",
    "import tritonclient.http as triton_http\n",
    "import tritonclient.grpc as triton_grpc"
   ]
  },
  {
   "cell_type": "markdown",
   "id": "3fd5e267-1c38-4d47-921c-12fd8f1a86b3",
   "metadata": {},
   "source": [
    "### Step 1. Get the host ip and ports"
   ]
  },
  {
   "cell_type": "code",
   "execution_count": null,
   "id": "08e48783-5bc2-4e95-ab95-b77f10690905",
   "metadata": {},
   "outputs": [],
   "source": [
    "http_port_cmd = \"kubectl -n istio-system get service istio-ingressgateway -o jsonpath='{.spec.ports[?(@.name=='http2')].port}'\"\n",
    "grpc_port_cmd = \"kubectl -n istio-system get service istio-ingressgateway -o jsonpath='{.spec.ports[?(@.name=='tcp')].port}'\"\n",
    "host_cmd = \"kubectl -n istio-system get service istio-ingressgateway -o jsonpath='{.status.loadBalancer.ingress[0].hostname}'\"\n",
    "\n",
    "http_port = subprocess.check_output(http_port_cmd.split()).decode('utf-8').replace(\"'\", \"\")\n",
    "grpc_port = subprocess.check_output(grpc_port_cmd.split()).decode('utf-8').replace(\"'\", \"\")\n",
    "host = subprocess.check_output(host_cmd.split()).decode('utf-8').replace(\"'\", \"\")\n",
    "\n",
    "print(host, http_port)\n",
    "print(host, grpc_port)\n"
   ]
  },
  {
   "cell_type": "markdown",
   "id": "753efd0b-0f60-46b2-8a88-6c34f5ea5d02",
   "metadata": {},
   "source": [
    "### Step 2. Generate some dummy data to use on `xgboost` model"
   ]
  },
  {
   "cell_type": "code",
   "execution_count": null,
   "id": "5521032d-96d5-496d-81b1-875a7de05be4",
   "metadata": {},
   "outputs": [],
   "source": [
    "# Set up both HTTP and GRPC clients. Note that the GRPC client is generally\n",
    "# somewhat faster.\n",
    "\n",
    "# Generate dummy data to classify\n",
    "features = 32\n",
    "samples = 8_000\n",
    "data = numpy.random.rand(samples, features).astype('float32')"
   ]
  },
  {
   "cell_type": "markdown",
   "id": "408f523c-ad00-4a05-908d-f58b3e42dc9c",
   "metadata": {},
   "source": [
    "### Perform inference"
   ]
  },
  {
   "cell_type": "markdown",
   "id": "44c385dc-b955-4466-906e-c2b7ef6cdb75",
   "metadata": {},
   "source": [
    "#### 2.a. HTTP Client Example"
   ]
  },
  {
   "cell_type": "code",
   "execution_count": null,
   "id": "ee41badb-5e5a-4f18-8f37-5c43276ddefc",
   "metadata": {},
   "outputs": [],
   "source": [
    "http_client = triton_http.InferenceServerClient(\n",
    "    url=f'{host}:{http_port}',\n",
    "    verbose=False,\n",
    "    concurrency=12\n",
    ")\n",
    "\n",
    "while (not (http_client.is_server_ready() or http_client.is_model_ready('xgb_model'))):\n",
    "    print(\"Waiting on server ready\")\n",
    "    time.sleep(5)\n",
    "print(f\"Is Server Ready: {http_client.is_server_ready()}\")\n",
    "print(f\"Is FIL model ready: {http_client.is_model_ready('xgb_model')}\")"
   ]
  },
  {
   "cell_type": "code",
   "execution_count": null,
   "id": "4cbf3301-0309-4a58-abd9-845bd1a85a27",
   "metadata": {},
   "outputs": [],
   "source": [
    "%%time\n",
    "# Set up Triton input and output objects for both HTTP and GRPC\n",
    "triton_input_http = triton_http.InferInput(\n",
    "    'input__0',\n",
    "    (samples, features),\n",
    "    'FP32'\n",
    ")\n",
    "\n",
    "triton_input_http.set_data_from_numpy(data, binary_data=True)\n",
    "triton_output_http = triton_http.InferRequestedOutput(\n",
    "    'output__0',\n",
    "    binary_data=True\n",
    ")\n",
    "\n",
    "# Submit inference requests (both HTTP and GRPC)\n",
    "request_http = http_client.infer(\n",
    "    'xgb_model',\n",
    "    model_version='1',\n",
    "    inputs=[triton_input_http],\n",
    "    outputs=[triton_output_http]\n",
    ")"
   ]
  },
  {
   "cell_type": "code",
   "execution_count": null,
   "id": "65111d17-2250-43a5-8d07-eb4515542609",
   "metadata": {},
   "outputs": [],
   "source": [
    "result_http = request_http.as_numpy('output__0')\n",
    "result_http"
   ]
  },
  {
   "cell_type": "markdown",
   "id": "3260b618-6223-491b-a253-e703ff9d77e6",
   "metadata": {},
   "source": [
    "#### 2.b gRPC Client Example"
   ]
  },
  {
   "cell_type": "code",
   "execution_count": null,
   "id": "73f81d14-5cd4-4eaa-865a-f91e59a3b16b",
   "metadata": {},
   "outputs": [],
   "source": [
    "grpc_client = triton_grpc.InferenceServerClient(\n",
    "    url=f'{host}:{grpc_port}',\n",
    "    verbose = False\n",
    ")\n",
    "\n",
    "while (not (grpc_client.is_server_ready() or grpc_client.is_model_ready('xgb_model'))):\n",
    "    print(\"Waiting on server ready\")\n",
    "    time.sleep(5)\n",
    "    \n",
    "print(f\"Is Server Ready: {grpc_client.is_server_ready()}\")\n",
    "print(f\"Is FIL model ready: {grpc_client.is_model_ready('xgb_model')}\")"
   ]
  },
  {
   "cell_type": "code",
   "execution_count": null,
   "id": "35049bd1-3bba-4b45-bf66-883018c813ee",
   "metadata": {
    "tags": []
   },
   "outputs": [],
   "source": [
    "%%time \n",
    "triton_input_grpc = triton_grpc.InferInput(\n",
    "    'input__0',\n",
    "    [samples, features],\n",
    "    'FP32'\n",
    ")\n",
    "\n",
    "triton_input_grpc.set_data_from_numpy(data)\n",
    "triton_output_grpc = triton_grpc.InferRequestedOutput('output__0')\n",
    "\n",
    "request_grpc = grpc_client.infer(\n",
    "    'xgb_model',\n",
    "    model_version='1',\n",
    "    inputs=[triton_input_grpc],\n",
    "    outputs=[triton_output_grpc]\n",
    ")"
   ]
  },
  {
   "cell_type": "code",
   "execution_count": null,
   "id": "706066a9-7a2d-432b-9a4f-a9c36b2cae5d",
   "metadata": {},
   "outputs": [],
   "source": [
    "result_grpc = request_grpc.as_numpy('output__0')\n",
    "result_grpc"
   ]
  },
  {
   "cell_type": "markdown",
   "id": "f6d92eaf-c163-478c-8644-a04c076e6abe",
   "metadata": {},
   "source": [
    "### Compare results between http and gRPC"
   ]
  },
  {
   "cell_type": "code",
   "execution_count": null,
   "id": "8a6f7f1d-c141-4b70-b8cd-a873c6aa40e2",
   "metadata": {},
   "outputs": [],
   "source": [
    "# Check that we got the same result with both GRPC and HTTP\n",
    "numpy.testing.assert_almost_equal(result_http, result_grpc)"
   ]
  },
  {
   "cell_type": "code",
   "execution_count": null,
   "id": "686886e0-ec8a-42b0-8a2f-c75a24e7d42f",
   "metadata": {},
   "outputs": [],
   "source": [
    "http_client.get_inference_statistics('xgb_model')"
   ]
  },
  {
   "cell_type": "markdown",
   "id": "8697a846-b12a-4872-9251-640bc550ae76",
   "metadata": {},
   "source": [
    "### Get information on the other models in the Triton Inference Server"
   ]
  },
  {
   "cell_type": "code",
   "execution_count": null,
   "id": "a5f96012-ff08-4ac8-9234-d48d7ec7574a",
   "metadata": {},
   "outputs": [],
   "source": [
    "http_client.get_model_repository_index()"
   ]
  },
  {
   "cell_type": "code",
   "execution_count": null,
   "id": "6229f0e0-cb0d-4fb5-9bd1-9edae046e5d4",
   "metadata": {},
   "outputs": [],
   "source": []
  }
 ],
 "metadata": {
  "kernelspec": {
   "display_name": "Python 3",
   "language": "python",
   "name": "python3"
  },
  "language_info": {
   "codemirror_mode": {
    "name": "ipython",
    "version": 3
   },
   "file_extension": ".py",
   "mimetype": "text/x-python",
   "name": "python",
   "nbconvert_exporter": "python",
   "pygments_lexer": "ipython3",
   "version": "3.8.10"
  }
 },
 "nbformat": 4,
 "nbformat_minor": 5
}
